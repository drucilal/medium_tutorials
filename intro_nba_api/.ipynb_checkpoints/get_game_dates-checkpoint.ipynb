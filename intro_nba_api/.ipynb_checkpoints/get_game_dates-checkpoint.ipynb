{
 "cells": [
  {
   "cell_type": "code",
   "execution_count": 19,
   "metadata": {},
   "outputs": [],
   "source": [
    "import pandas as pd\n",
    "import datetime as dt"
   ]
  },
  {
   "cell_type": "code",
   "execution_count": 20,
   "metadata": {},
   "outputs": [],
   "source": [
    "df_seasons = pd.read_csv('season.csv')\n",
    "game_dates= []\n",
    "for i, row in df_seasons.iterrows():\n",
    "    start_date = dt.datetime.strptime(row['start'],'%Y-%m-%d').date()\n",
    "    end_date = dt.datetime.strptime(row['end'], '%Y-%m-%d').date()\n",
    "    while start_date <= end_date:\n",
    "        game_dates.append(start_date)\n",
    "        start_date = start_date + dt.timedelta(1)"
   ]
  },
  {
   "cell_type": "code",
   "execution_count": 21,
   "metadata": {},
   "outputs": [],
   "source": [
    "df = pd.DataFrame(game_dates, columns = {\"dates\"})\n",
    "df['pulled']= ''"
   ]
  },
  {
   "cell_type": "code",
   "execution_count": 22,
   "metadata": {},
   "outputs": [],
   "source": [
    "df.to_csv('game_dates.csv')"
   ]
  },
  {
   "cell_type": "code",
   "execution_count": null,
   "metadata": {},
   "outputs": [],
   "source": []
  }
 ],
 "metadata": {
  "kernelspec": {
   "display_name": "Python 3",
   "language": "python",
   "name": "python3"
  },
  "language_info": {
   "codemirror_mode": {
    "name": "ipython",
    "version": 3
   },
   "file_extension": ".py",
   "mimetype": "text/x-python",
   "name": "python",
   "nbconvert_exporter": "python",
   "pygments_lexer": "ipython3",
   "version": "3.7.0"
  }
 },
 "nbformat": 4,
 "nbformat_minor": 2
}
